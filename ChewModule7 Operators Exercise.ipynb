{
 "cells": [
  {
   "cell_type": "markdown",
   "metadata": {},
   "source": [
    "### Exercise 1\n",
    "Ask a user to enter a number. If the number is positive, print <b>Positive number</b>. Otherwise, do not print any message. Finally, print 'goodbye' message at the end."
   ]
  },
  {
   "cell_type": "code",
   "execution_count": 72,
   "metadata": {},
   "outputs": [
    {
     "name": "stdout",
     "output_type": "stream",
     "text": [
      "Please enter a number: 567\n",
      "\n",
      "Goodbye!\n"
     ]
    }
   ],
   "source": [
    "usernum = int(input(\"Please enter a number: \"))\n",
    "if (usernum % 2) == 0:\n",
    "   print(\"Positive number\".format(usernum))\n",
    "else:\n",
    "   print()\n",
    "\n",
    "print(\"Goodbye!\")"
   ]
  },
  {
   "cell_type": "code",
   "execution_count": null,
   "metadata": {},
   "outputs": [],
   "source": []
  },
  {
   "cell_type": "markdown",
   "metadata": {},
   "source": [
    "### Exercise 2\n",
    "Ask for a code and store that answer. \n",
    "If the answer is grey then print out if you found secret code.\n",
    "Otherwise print out the code is not the secret code."
   ]
  },
  {
   "cell_type": "code",
   "execution_count": 70,
   "metadata": {
    "scrolled": true
   },
   "outputs": [
    {
     "name": "stdout",
     "output_type": "stream",
     "text": [
      "Please enter a code: red\n",
      "Sorry, you didn't find the secret code.\n"
     ]
    },
    {
     "data": {
      "text/plain": [
       "False"
      ]
     },
     "execution_count": 70,
     "metadata": {},
     "output_type": "execute_result"
    }
   ],
   "source": [
    "code = (input(\"Please enter a code: \"))\n",
    "if (code == \"grey\"):\n",
    "   print(\"Congratulations!!! You found the secret code.\")\n",
    "else:\n",
    "   print(\"Sorry, you didn't find the secret code.\")\n",
    "\n",
    "code == \"grey\""
   ]
  },
  {
   "cell_type": "markdown",
   "metadata": {},
   "source": [
    "### Exercise 3\n",
    "\n",
    "Ask a user to enter a phrase. If the word contains a number, display the \"Number found\" message. Otherwise, show the \"Number not found\" message. "
   ]
  },
  {
   "cell_type": "code",
   "execution_count": 10,
   "metadata": {},
   "outputs": [
    {
     "name": "stdout",
     "output_type": "stream",
     "text": [
      "Please enter a phrase: down four it\n",
      "Number found\n"
     ]
    },
    {
     "data": {
      "text/plain": [
       "False"
      ]
     },
     "execution_count": 10,
     "metadata": {},
     "output_type": "execute_result"
    }
   ],
   "source": [
    "result = (input(\"Please enter a phrase: \"))\n",
    "if result == ('1') or ('2') or ('3') or ('4') or ('5') or ('6') or ('7') or ('8') or ('9') or ('0'):\n",
    "    print(\"Number found\")\n",
    "else: \n",
    "    print(\"Number not found\")    \n",
    "\n",
    "result == ('1', '2', '3', '4', '5', '6', '7', '8', '9', '0')\n",
    "\n",
    "\n",
    "# Can't solve this problem. "
   ]
  },
  {
   "cell_type": "code",
   "execution_count": null,
   "metadata": {},
   "outputs": [],
   "source": []
  },
  {
   "cell_type": "code",
   "execution_count": null,
   "metadata": {},
   "outputs": [],
   "source": [
    "### Exercise 4\n",
    "\n",
    "Ask a user to enter a number. Then, only if the number is divisible by 2 and 3, show the result of the number divided by two and three in a formated string. The output should look something like this:\n",
    "        \n",
    "    Enter a number: 2\n",
    "    Bye    \n",
    "    \n",
    "    Enter a number: 60\n",
    "    60 / 2 = 30.0\n",
    "    60 / 3 = 20.0\n",
    "\n",
    "Bye\n",
    "    \n",
    "    Enter a number: 3\n",
    "    Bye\n",
    "    \n",
    "    Enter a number: 10\n",
    "    Bye    "
   ]
  },
  {
   "cell_type": "code",
   "execution_count": 21,
   "metadata": {},
   "outputs": [
    {
     "name": "stdout",
     "output_type": "stream",
     "text": [
      "Please enter a number: 60\n",
      "Bye\n"
     ]
    }
   ],
   "source": [
    "#initialize variables\n",
    "result2 = (number / 2)\n",
    "result3 = (number / 3)   \n",
    "\n",
    "number = int(input(\"Please enter a number: \"))\n",
    "\n",
    "if (number / 2) == 0 or (number / 3) == 0 :\n",
    "    print(f\"({number} / 2) = {result2}\")\n",
    "    print(f\"({number} / 3) = {result3}\")\n",
    "else :\n",
    "    print(\"Bye\")\n",
    "    \n",
    " "
   ]
  },
  {
   "cell_type": "code",
   "execution_count": null,
   "metadata": {},
   "outputs": [],
   "source": []
  },
  {
   "cell_type": "markdown",
   "metadata": {},
   "source": [
    "### Exercise 5\n",
    "Ask a user to enter a number. Determine if the number is zero, positive or negative. Use only <b>if</b> and <b>else</b> statements. \n",
    "    "
   ]
  },
  {
   "cell_type": "code",
   "execution_count": 16,
   "metadata": {},
   "outputs": [
    {
     "name": "stdout",
     "output_type": "stream",
     "text": [
      "Please enter a number: 0\n",
      "0 is zero\n"
     ]
    }
   ],
   "source": [
    "number = int(input(\"Please enter a number: \"))\n",
    "if number == 0:\n",
    "    print(f\"{number} is zero\")\n",
    "elif number >= 0:\n",
    "    print(f\"{number} is a positive number\")\n",
    "else :\n",
    "    print(f\"{number} is a negative number\")\n",
    "    "
   ]
  },
  {
   "cell_type": "code",
   "execution_count": null,
   "metadata": {},
   "outputs": [],
   "source": []
  },
  {
   "cell_type": "markdown",
   "metadata": {},
   "source": [
    "# "
   ]
  }
 ],
 "metadata": {
  "kernelspec": {
   "display_name": "Python 3 (ipykernel)",
   "language": "python",
   "name": "python3"
  },
  "language_info": {
   "codemirror_mode": {
    "name": "ipython",
    "version": 3
   },
   "file_extension": ".py",
   "mimetype": "text/x-python",
   "name": "python",
   "nbconvert_exporter": "python",
   "pygments_lexer": "ipython3",
   "version": "3.9.12"
  }
 },
 "nbformat": 4,
 "nbformat_minor": 4
}
